{
 "cells": [
  {
   "cell_type": "code",
   "execution_count": 14,
   "id": "b99fb310",
   "metadata": {},
   "outputs": [
    {
     "name": "stdout",
     "output_type": "stream",
     "text": [
      "Requirement already satisfied: pymongo in /Users/shreya/opt/anaconda3/envs/PythonData/lib/python3.9/site-packages (4.3.2)\n",
      "Requirement already satisfied: dnspython<3.0.0,>=1.16.0 in /Users/shreya/opt/anaconda3/envs/PythonData/lib/python3.9/site-packages (from pymongo) (2.2.1)\n",
      "Note: you may need to restart the kernel to use updated packages.\n"
     ]
    }
   ],
   "source": [
    "pip install pymongo\n"
   ]
  },
  {
   "cell_type": "code",
   "execution_count": 15,
   "id": "a30bbfd0",
   "metadata": {},
   "outputs": [],
   "source": [
    "from pymongo import MongoClient\n",
    "mongo = MongoClient(port=27017)"
   ]
  },
  {
   "cell_type": "code",
   "execution_count": 16,
   "id": "6bcc703a",
   "metadata": {},
   "outputs": [
    {
     "name": "stdout",
     "output_type": "stream",
     "text": [
      "['admin', 'config', 'local']\n"
     ]
    }
   ],
   "source": [
    "print(mongo.list_database_names())"
   ]
  },
  {
   "cell_type": "code",
   "execution_count": 23,
   "id": "6e7f7fc0",
   "metadata": {},
   "outputs": [],
   "source": [
    "my_first_db = mongo['my_db']"
   ]
  },
  {
   "cell_type": "code",
   "execution_count": 24,
   "id": "4eec6fdc",
   "metadata": {},
   "outputs": [
    {
     "name": "stdout",
     "output_type": "stream",
     "text": [
      "['admin', 'config', 'local']\n"
     ]
    }
   ],
   "source": [
    "print(mongo.list_database_names())"
   ]
  },
  {
   "cell_type": "code",
   "execution_count": 28,
   "id": "dd9db04b",
   "metadata": {},
   "outputs": [
    {
     "data": {
      "text/plain": [
       "[]"
      ]
     },
     "execution_count": 28,
     "metadata": {},
     "output_type": "execute_result"
    }
   ],
   "source": [
    "my_first_Collection = my_first_db['my_collection']\n",
    "my_db.list_collection_names()\n"
   ]
  },
  {
   "cell_type": "code",
   "execution_count": 31,
   "id": "205c859f",
   "metadata": {},
   "outputs": [
    {
     "data": {
      "text/plain": [
       "<pymongo.results.InsertOneResult at 0x7f9a585772e0>"
      ]
     },
     "execution_count": 31,
     "metadata": {},
     "output_type": "execute_result"
    }
   ],
   "source": [
    "my_first_Collection.insert_one({'name': 'Mickey'})"
   ]
  },
  {
   "cell_type": "code",
   "execution_count": 32,
   "id": "4f12d41c",
   "metadata": {},
   "outputs": [
    {
     "name": "stdout",
     "output_type": "stream",
     "text": [
      "['admin', 'config', 'local', 'my_db']\n",
      "['my_collection']\n"
     ]
    }
   ],
   "source": [
    "print(mongo.list_database_names())\n",
    "print(my_db.list_collection_names())"
   ]
  },
  {
   "cell_type": "code",
   "execution_count": 34,
   "id": "d5d1cdaf",
   "metadata": {},
   "outputs": [
    {
     "name": "stdout",
     "output_type": "stream",
     "text": [
      "{'_id': ObjectId('63604695948b228501838925'), 'name': 'Mickey'}\n"
     ]
    }
   ],
   "source": [
    "results = my_first_Collection.find()\n",
    "for result in results:\n",
    "    print(result)"
   ]
  },
  {
   "cell_type": "code",
   "execution_count": 35,
   "id": "d9b272c5",
   "metadata": {},
   "outputs": [
    {
     "data": {
      "text/plain": [
       "<pymongo.results.InsertOneResult at 0x7f9a482c5a30>"
      ]
     },
     "execution_count": 35,
     "metadata": {},
     "output_type": "execute_result"
    }
   ],
   "source": [
    "my_first_Collection.insert_one({'name': 'Minnie', 'age': '25'})"
   ]
  },
  {
   "cell_type": "code",
   "execution_count": 36,
   "id": "508c1230",
   "metadata": {},
   "outputs": [
    {
     "name": "stdout",
     "output_type": "stream",
     "text": [
      "{'_id': ObjectId('63604695948b228501838925'), 'name': 'Mickey'}\n",
      "{'_id': ObjectId('6360481f948b228501838926'), 'name': 'Minnie', 'age': '25'}\n"
     ]
    }
   ],
   "source": [
    "results = my_first_Collection.find()\n",
    "for result in results:\n",
    "    print(result)"
   ]
  },
  {
   "cell_type": "code",
   "execution_count": 37,
   "id": "9dbdc0af",
   "metadata": {},
   "outputs": [
    {
     "data": {
      "text/plain": [
       "<pymongo.results.InsertOneResult at 0x7f9a7896cee0>"
      ]
     },
     "execution_count": 37,
     "metadata": {},
     "output_type": "execute_result"
    }
   ],
   "source": [
    "goofy = {'_id' :3, 'name': 'Goofy', 'age': 87, 'spices': 'dog'}\n",
    "my_first_Collection.insert_one(goofy)"
   ]
  },
  {
   "cell_type": "code",
   "execution_count": 39,
   "id": "a1394610",
   "metadata": {},
   "outputs": [
    {
     "name": "stdout",
     "output_type": "stream",
     "text": [
      "{'_id': ObjectId('63604695948b228501838925'), 'name': 'Mickey'}\n",
      "{'_id': ObjectId('6360481f948b228501838926'), 'name': 'Minnie', 'age': '25'}\n",
      "{'_id': 3, 'name': 'Goofy', 'age': 87, 'spices': 'dog'}\n"
     ]
    }
   ],
   "source": [
    "results = my_first_Collection.find()\n",
    "for results in results:\n",
    "    print(results)"
   ]
  },
  {
   "cell_type": "code",
   "execution_count": 40,
   "id": "ba9ffa6c",
   "metadata": {},
   "outputs": [
    {
     "data": {
      "text/plain": [
       "<pymongo.results.InsertManyResult at 0x7f9a38961f10>"
      ]
     },
     "execution_count": 40,
     "metadata": {},
     "output_type": "execute_result"
    }
   ],
   "source": [
    "animals = [{'name': 'Donald', 'species': 'duck'}, {'name': 'Daisy', 'species': 'duck'}]\n",
    "my_first_Collection.insert_many(animals)"
   ]
  },
  {
   "cell_type": "code",
   "execution_count": 42,
   "id": "9f38cb81",
   "metadata": {},
   "outputs": [
    {
     "name": "stdout",
     "output_type": "stream",
     "text": [
      "{'_id': ObjectId('63604695948b228501838925'), 'name': 'Mickey'}\n",
      "{'_id': ObjectId('6360481f948b228501838926'), 'name': 'Minnie', 'age': '25'}\n",
      "{'_id': 3, 'name': 'Goofy', 'age': 87, 'spices': 'dog'}\n",
      "{'_id': ObjectId('63604a24948b228501838927'), 'name': 'Donald', 'species': 'duck'}\n",
      "{'_id': ObjectId('63604a24948b228501838928'), 'name': 'Daisy', 'species': 'duck'}\n"
     ]
    }
   ],
   "source": [
    "results = my_first_Collection.find()\n",
    "for results in results:\n",
    "    print(results)"
   ]
  },
  {
   "cell_type": "code",
   "execution_count": 43,
   "id": "41684315",
   "metadata": {},
   "outputs": [
    {
     "name": "stdout",
     "output_type": "stream",
     "text": [
      "{'_id': ObjectId('63604a24948b228501838927'), 'name': 'Donald', 'species': 'duck'}\n"
     ]
    }
   ],
   "source": [
    "query = {'name' : 'Donald'}\n",
    "results = my_first_Collection.find(query)\n",
    "for result in results:\n",
    "    print(result)"
   ]
  },
  {
   "cell_type": "code",
   "execution_count": 44,
   "id": "7985ff29",
   "metadata": {},
   "outputs": [
    {
     "name": "stdout",
     "output_type": "stream",
     "text": [
      "{'_id': 3, 'name': 'Goofy', 'age': 87, 'spices': 'dog'}\n"
     ]
    }
   ],
   "source": [
    "query = {'age':{'$gt': 85}}\n",
    "results = my_first_Collection.find(query)\n",
    "for result in results:\n",
    "    print(result)"
   ]
  },
  {
   "cell_type": "code",
   "execution_count": 46,
   "id": "f5d5693d",
   "metadata": {},
   "outputs": [
    {
     "data": {
      "text/plain": [
       "[{'_id': ObjectId('63604695948b228501838925'), 'name': 'Mickey Mouse'},\n",
       " {'_id': ObjectId('6360481f948b228501838926'), 'name': 'Minnie', 'age': '25'},\n",
       " {'_id': 3, 'name': 'Goofy', 'age': 87, 'spices': 'dog'},\n",
       " {'_id': ObjectId('63604a24948b228501838927'),\n",
       "  'name': 'Donald',\n",
       "  'species': 'duck'},\n",
       " {'_id': ObjectId('63604a24948b228501838928'),\n",
       "  'name': 'Daisy',\n",
       "  'species': 'duck'}]"
      ]
     },
     "execution_count": 46,
     "metadata": {},
     "output_type": "execute_result"
    }
   ],
   "source": [
    "query = {'name': 'Mickey'}\n",
    "update = {'$set': {'name': 'Mickey Mouse'}}\n",
    "my_first_Collection.update_one(query, update)\n",
    "[r for r in my_first_Collection.find()]"
   ]
  },
  {
   "cell_type": "code",
   "execution_count": 52,
   "id": "15a88e56",
   "metadata": {},
   "outputs": [
    {
     "data": {
      "text/plain": [
       "[{'_id': ObjectId('63604695948b228501838925'), 'name': 'Mickey Mouse'},\n",
       " {'_id': ObjectId('6360481f948b228501838926'),\n",
       "  'name': 'Minnie Mouse',\n",
       "  'age': '25'},\n",
       " {'_id': 3, 'name': 'Goofy', 'age': 87, 'spices': 'dog'},\n",
       " {'_id': ObjectId('63604a24948b228501838927'),\n",
       "  'name': 'Donald',\n",
       "  'species': 'duck'},\n",
       " {'_id': ObjectId('63604a24948b228501838928'),\n",
       "  'name': 'Daisy',\n",
       "  'species': 'duck'}]"
      ]
     },
     "execution_count": 52,
     "metadata": {},
     "output_type": "execute_result"
    }
   ],
   "source": [
    "query = {'name' :  'Minnie'}\n",
    "update = {'$set': {'name': 'Minnie Mouse'}}\n",
    "my_first_Collection.update_one(query, update)\n",
    "[r for  r in my_first_Collection.find()]"
   ]
  },
  {
   "cell_type": "code",
   "execution_count": 53,
   "id": "8b87f7a9",
   "metadata": {},
   "outputs": [
    {
     "data": {
      "text/plain": [
       "[{'_id': ObjectId('63604695948b228501838925'), 'name': 'Mickey Mouse'},\n",
       " {'_id': ObjectId('6360481f948b228501838926'),\n",
       "  'name': 'Minnie Mouse',\n",
       "  'age': '25'},\n",
       " {'_id': 3, 'name': 'Goofy', 'age': 87, 'spices': 'dog'},\n",
       " {'_id': ObjectId('63604a24948b228501838927'),\n",
       "  'name': 'Donald',\n",
       "  'species': 'duck'},\n",
       " {'_id': ObjectId('63604a24948b228501838928'),\n",
       "  'name': 'Daisy',\n",
       "  'species': 'duck'}]"
      ]
     },
     "execution_count": 53,
     "metadata": {},
     "output_type": "execute_result"
    }
   ],
   "source": [
    "query = {'name': 'Minnie'}\n",
    "my_first_Collection.delete_one(query)\n",
    "[r for r in my_first_Collection.find()]"
   ]
  },
  {
   "cell_type": "code",
   "execution_count": 56,
   "id": "3db1c8ea",
   "metadata": {},
   "outputs": [
    {
     "data": {
      "text/plain": [
       "[{'_id': ObjectId('63604695948b228501838925'), 'name': 'Mickey Mouse'},\n",
       " {'_id': ObjectId('6360481f948b228501838926'),\n",
       "  'name': 'Minnie Mouse',\n",
       "  'age': '25'},\n",
       " {'_id': 3, 'name': 'Goofy', 'age': 87, 'spices': 'dog'}]"
      ]
     },
     "execution_count": 56,
     "metadata": {},
     "output_type": "execute_result"
    }
   ],
   "source": [
    "query = {'species': 'duck'}\n",
    "my_first_Collection.delete_many(query)\n",
    "[r for r in my_first_Collection.find()]"
   ]
  },
  {
   "cell_type": "code",
   "execution_count": 58,
   "id": "cf74658d",
   "metadata": {},
   "outputs": [
    {
     "data": {
      "text/plain": [
       "{'nIndexesWas': 1, 'ns': 'my_db.my_collection', 'ok': 1.0}"
      ]
     },
     "execution_count": 58,
     "metadata": {},
     "output_type": "execute_result"
    }
   ],
   "source": [
    "my_first_db.drop_collection('my_collection')"
   ]
  },
  {
   "cell_type": "code",
   "execution_count": 59,
   "id": "037cb33d",
   "metadata": {},
   "outputs": [
    {
     "data": {
      "text/plain": [
       "[]"
      ]
     },
     "execution_count": 59,
     "metadata": {},
     "output_type": "execute_result"
    }
   ],
   "source": [
    "my_first_db.list_collection_names()"
   ]
  },
  {
   "cell_type": "code",
   "execution_count": null,
   "id": "2096d5f6",
   "metadata": {},
   "outputs": [],
   "source": [
    "query = {'species': 'duck'}\n",
    "my_first_collection.delete_many(query)\n",
    "[r for r in my_first_collection.find()]"
   ]
  }
 ],
 "metadata": {
  "kernelspec": {
   "display_name": "PythonData",
   "language": "python",
   "name": "pythondata"
  },
  "language_info": {
   "codemirror_mode": {
    "name": "ipython",
    "version": 3
   },
   "file_extension": ".py",
   "mimetype": "text/x-python",
   "name": "python",
   "nbconvert_exporter": "python",
   "pygments_lexer": "ipython3",
   "version": "3.9.12"
  }
 },
 "nbformat": 4,
 "nbformat_minor": 5
}
